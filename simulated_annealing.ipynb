{
 "cells": [
  {
   "cell_type": "markdown",
   "metadata": {},
   "source": [
    "# Simulated Annealing\n",
    "\n",
    "## Annealing\n",
    "When a metal is heated to a high temperature quickly and then gradually cooled. At high temperatures, the atoms move fast, and when the temperature is reduced, their kinetic enerly decreases as well. At the end of the annealing process, the atoms fall into more ordered state, and the material is more ductile and easier to work with.\n",
    "\n",
    "## Simulated Annealing\n",
    "Simulated annealing process starts with high-energy state(an initial solution) and gradually lowers the temperature(a control parameter) untill it reaches a state of minimum energy(the optimal solution).\n",
    "\n",
    "### Appliations\n",
    "- Travelling Sales person's problem\n",
    "- Protein Folding\n",
    "- Graph partitioning\n",
    "- Job-shop Scheduing\n",
    "\n",
    "The main advantage of SA is its ability to escape from local minima and converge to a global minimum."
   ]
  }
 ],
 "metadata": {
  "language_info": {
   "name": "python"
  }
 },
 "nbformat": 4,
 "nbformat_minor": 2
}
